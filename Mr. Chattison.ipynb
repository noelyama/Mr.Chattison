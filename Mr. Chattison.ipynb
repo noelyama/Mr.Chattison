{
 "cells": [
  {
   "cell_type": "markdown",
   "metadata": {},
   "source": [
    "# PROJECT DESCRIPTION"
   ]
  },
  {
   "cell_type": "markdown",
   "metadata": {},
   "source": [
    "For the COGS 18 project, I have made a chatbox named Mr. Chattison that only recommends movies. Personally, I am really bad at choosing a movie to watch. Mr. Chattison will help with this decision process, randomly generating a movie based on a genre that is specified by the user. In order to get a movie recommendation, the user will have to explicitly ask Mr. Chattison for a movie recommendation. If the user wishes for furthur information on the movie, Mr. Chattison will also provide a link to a website that has information on the given movie. "
   ]
  },
  {
   "cell_type": "markdown",
   "metadata": {},
   "source": [
    "# PROJECT CODE"
   ]
  },
  {
   "cell_type": "code",
   "execution_count": 1,
   "metadata": {},
   "outputs": [],
   "source": [
    "import string, random, nltk"
   ]
  },
  {
   "cell_type": "code",
   "execution_count": 2,
   "metadata": {},
   "outputs": [],
   "source": [
    "def is_question(input_string):\n",
    "    \n",
    "    '''This function will determine if the user asked a question. This function is from assignment #3.'''\n",
    "    \n",
    "    if '?' in input_string:\n",
    "        output = True\n",
    "    else:\n",
    "        output = False\n",
    "        \n",
    "    return output"
   ]
  },
  {
   "cell_type": "code",
   "execution_count": 3,
   "metadata": {},
   "outputs": [],
   "source": [
    "assert callable(is_question)\n",
    "assert isinstance(is_question('abc'), bool)\n",
    "assert is_question('what?') == True\n",
    "assert callable(is_question)"
   ]
  },
  {
   "cell_type": "code",
   "execution_count": 4,
   "metadata": {},
   "outputs": [],
   "source": [
    "def remove_punctuation(input_string):\n",
    "    \n",
    "    '''This function will remove the punctuations. This function is from assignment #3.'''\n",
    "    \n",
    "    out_string = ''\n",
    "    \n",
    "    for char in input_string:\n",
    "        if char not in string.punctuation:\n",
    "            out_string += char\n",
    "            \n",
    "    return out_string"
   ]
  },
  {
   "cell_type": "code",
   "execution_count": 5,
   "metadata": {},
   "outputs": [],
   "source": [
    "assert callable(remove_punctuation)\n",
    "assert isinstance(remove_punctuation('a'), str)\n",
    "assert remove_punctuation(\"Hey! It's Noel\") == 'Hey Its Noel'\n",
    "assert callable(remove_punctuation)"
   ]
  },
  {
   "cell_type": "code",
   "execution_count": 6,
   "metadata": {},
   "outputs": [],
   "source": [
    "def prepare_text(input_string):\n",
    "    \n",
    "    '''This function will prepare the text by removing punctuations and making uppercase letters lower cased. This function is from assignment #3.'''\n",
    "    \n",
    "    out_list=[]\n",
    "    \n",
    "    temp_string = input_string.lower()\n",
    "    \n",
    "    temp_string = remove_punctuation(temp_string)\n",
    "    \n",
    "    out_list = temp_string.split()\n",
    "    \n",
    "    return out_list"
   ]
  },
  {
   "cell_type": "code",
   "execution_count": 7,
   "metadata": {},
   "outputs": [],
   "source": [
    "assert callable(prepare_text)\n",
    "assert isinstance(prepare_text('One two three.'), list)\n",
    "assert prepare_text('Hi! Also, howdy.') == ['hi', 'also', 'howdy']\n",
    "assert callable(prepare_text)"
   ]
  },
  {
   "cell_type": "code",
   "execution_count": 8,
   "metadata": {},
   "outputs": [],
   "source": [
    "def selector(input_list, check_list, return_list):\n",
    "    \n",
    "    '''This function will randomly generate an output in the given list. This function is from assignment #3.'''\n",
    "    \n",
    "    output = None\n",
    "    \n",
    "    for num in input_list:\n",
    "        if num in check_list:\n",
    "            output = random.choice(return_list)\n",
    "            break\n",
    "    \n",
    "    return output"
   ]
  },
  {
   "cell_type": "code",
   "execution_count": 9,
   "metadata": {},
   "outputs": [],
   "source": [
    "assert callable(selector)\n",
    "assert selector(['in', 'words'], ['words'], ['yes']) == 'yes'\n",
    "assert selector(['in', 'words'], ['out'], ['yes']) == None\n",
    "assert callable(selector)"
   ]
  },
  {
   "cell_type": "code",
   "execution_count": 10,
   "metadata": {},
   "outputs": [],
   "source": [
    "def end_chat(input_list):\n",
    "    \n",
    "    '''This function will end the chat. This function is from assignment #3 but is modified.'''\n",
    "    \n",
    "    if 'bye' in input_list or 'no' in input_list:\n",
    "        return True\n",
    "    else:\n",
    "        return False"
   ]
  },
  {
   "cell_type": "code",
   "execution_count": 11,
   "metadata": {},
   "outputs": [],
   "source": [
    "assert callable(end_chat)\n",
    "assert isinstance(end_chat(['a', 'b']), bool)\n",
    "assert end_chat(['bye']) == True\n",
    "assert callable(end_chat)"
   ]
  },
  {
   "cell_type": "code",
   "execution_count": 12,
   "metadata": {},
   "outputs": [],
   "source": [
    "def is_in_list(list_one, list_two):\n",
    "    \n",
    "    '''This function will check if any element of list_one is in list_two. This function is from assignment #3.'''\n",
    "    \n",
    "    for element in list_one:\n",
    "        if element in list_two:\n",
    "            return True\n",
    "    \n",
    "    return False\n",
    "\n",
    "def find_in_list(list_one, list_two):\n",
    "    \n",
    "    '''This function will find and return an element from list_one that is in list_two, or None otherwise. This function is from assignment #3.'''\n",
    "    \n",
    "    for element in list_one:\n",
    "        if element in list_two:\n",
    "            return element\n",
    "   \n",
    "    return None"
   ]
  },
  {
   "cell_type": "code",
   "execution_count": 13,
   "metadata": {
    "scrolled": true
   },
   "outputs": [],
   "source": [
    "#my custom function\n",
    "from my_module.give_more_information import *"
   ]
  },
  {
   "cell_type": "code",
   "execution_count": 14,
   "metadata": {},
   "outputs": [],
   "source": [
    "#list of movie genres\n",
    "movielist_action = ['Avengers: Endgame', 'Avengers: Infinity War', 'Rush', 'Guardians of the Galaxy',\n",
    "                  'The Dark Knight', 'Inception', 'Mad Max: Fury Road', 'Logan', 'Gladiator',\n",
    "                  'Kill Bill: Vol. 1', 'How to Train your Dragon', 'Pirates of the Caribbean: The Curse of the Black Pearl',\n",
    "                  'Oldboy', 'V for Vendetta']\n",
    "\n",
    "movielist_thriller = ['Get Out', 'The Silence of the Lambs', '118', 'John Wick: Chapter 3',\n",
    "                    \"Don't Breathe\", 'Sicario', 'Pet Sematary', 'Serenity', 'Shutter Island',\n",
    "                    'Glass', 'It', 'Gone Girl', 'Sinister', 'Us', \"Gerald's Game\", 'Hush', \n",
    "                    'Halloween']\n",
    "\n",
    "movielist_romcom = ['500 Days of Summer', 'The Big Sick', 'Crazy, Stupid, Love', 'The Proposal', 'Just Go with it',\n",
    "                  'Forgetting Sarah Marshall', \"He's Just Not that Into You\", 'The Ugly Truth', '27 Dresses',\n",
    "                  '13 Going on 30', 'How to Lose a Guy in 10 Days', 'Love Actually', 'When Harry met Sally', \n",
    "                  'Notting Hill', 'Clueless']\n",
    "\n",
    "movielist_funny = ['The Hustle', 'Game Night', 'Blockers', 'Deadpool', 'The Lego Movie', '22 Jump Street', \n",
    "                 \"We're the Millers\", 'The Heat', 'Bridesmaids', 'The Hangover', 'Kick-Ass', 'Step Broothers',\n",
    "                 'The 40-Year-Old Virgin', 'Anchorman: The Legend of Ron Burgundy', 'Dumb and Dumber', \n",
    "                 'Napolean Dynamite']\n",
    "\n",
    "movielist_indie = ['The Big Sick', 'Boyhood', \"Winter's Bone\", 'Call Me by Your Name', 'Lady Bird', 'Manchester by the Sea',\n",
    "                 'Tangerine', 'Krisha', 'Juno', 'Little Miss Sunshine', 'Her', '500 Days of Summer',\n",
    "                 'Gunmo', 'Napolean Dynamite', '50/50', 'Amélie']\n",
    "\n",
    "movielist_documentary = ['13th', 'Free Solo', 'Apollo 11', 'Leaving Neverland', 'Blackfish', '20 Feet from Stardom', 'Amy',\n",
    "                       'Strong Island', 'Jiro Dreams of Sushi', 'The Act of Killing', 'Man on Wire', 'Food, Inc.', \n",
    "                       'March of the Penguins', 'Super Size Me', 'Shoah', 'Bob Dylan: Dont Look Back', 'Winged Migration',\n",
    "                       'Buena Vista Social Club']\n",
    "\n",
    "movielist_mystery = ['Zodiac', 'Shutter Island', 'Mulholland Drive', 'Memento', 'Seven', 'Gone Girl', 'Wind River',\n",
    "                   'Us', 'The Girl with the Dragon Tattoo', 'Sherlock Holmes', 'Get Out', 'Arrival', 'The Usual Suspects',\n",
    "                   'Identity', 'Psycho', 'The Third Man', 'The Da Vinci Code', 'The Game', 'The Number 23', \n",
    "                   'The Fugitive']\n",
    "\n",
    "movielist_superhero = ['Justice League', 'Spider-Man: Homecoming', 'Wonder Woman', 'Avengers: Endgame', 'Captain Marvel',\n",
    "                     'Shazam!', 'Avengers: Infinity War', 'Aquaman', 'Black Panther', 'Deadpool 2', 'Venom',\n",
    "                     'Ant-Man and the Wasp', 'Incredibles 2', 'Logan', 'Suicide Squad', 'Doctor Strange', 'X-Men: Apocalypse',\n",
    "                     'Fantastic Four', 'Man of Steel']\n",
    "\n",
    "movielist_disney = ['Aladdin', 'Tangled', 'Dumbo', 'The Lion King', 'Toy Story', 'Frozen', 'Incredibles', 'Coco', 'Moana',\n",
    "                  'Zootopia', 'Finding Dory', 'Inside Out', 'Maleficient', 'Wreck-It Ralph', 'The Princess and the Frog', \n",
    "                  'Up', 'Ratatouille', 'Chicken Little', 'The Little Mermaid', 'Mulan', 'Lilo & Stitch', 'Pinocchio',\n",
    "                  'Beauty and the Beast', 'Hercules']"
   ]
  },
  {
   "cell_type": "code",
   "execution_count": 15,
   "metadata": {},
   "outputs": [],
   "source": [
    "#list of key words that, if responded by the user, mr.chattison will spit out a certain response\n",
    "GREETINGS_IN = ['hello', 'hi', 'hey', 'hola', 'bonjour', 'greetings']\n",
    "GREETINGS_OUT = ['hey girl', 'what do you want',  'im mr. chattison. what up']\n",
    "\n",
    "MOVIE_IN = ['movie', 'watch', 'film', 'movies', 'films']\n",
    "MOVIE_OUT = ['what kind of genre of movie would you want to watch?', 'genre?', 'what kind of movie you wanna watch']\n",
    "\n",
    "GENRE_IN = ['action', 'thriller', 'scary', 'romcom', 'romantic comedies', 'romantic comedy', 'funny','indie', \n",
    "         'documentary', 'mystery', 'superhero', 'comedy', 'disney'] \n",
    "\n",
    "UNKNOWN = ['confused', 'I only like to talk about movies', 'Huh?', 'what', 'i only know about movies']\n",
    "\n",
    "QUESTION = \"I'm too shy to answer questions. What do you want to talk about?\""
   ]
  },
  {
   "cell_type": "code",
   "execution_count": 16,
   "metadata": {},
   "outputs": [],
   "source": [
    "def chattison_give_me_a_movie():\n",
    "    \n",
    "    '''Main function to run our chatbot. This function is from assignment #3, but is modified heavily.'''\n",
    "    \n",
    "    chat = True\n",
    "    while chat:\n",
    "\n",
    "        # Get a message from the user\n",
    "        msg = input('You:\\t')\n",
    "        out_msg = None\n",
    "\n",
    "        # Check if the input is a question\n",
    "        question = is_question(msg)\n",
    "\n",
    "        # Prepare the input message\n",
    "        msg = prepare_text(msg)\n",
    "\n",
    "        # Check for an end msg \n",
    "        if end_chat(msg):\n",
    "            out_msg = 'see ya'\n",
    "            chat = False\n",
    "        \n",
    "\n",
    "        # Check for a selection of topics that we have defined to respond to\n",
    "        if not out_msg:\n",
    "\n",
    "            # Initialize to collect a list of possible outputs\n",
    "            outs = []\n",
    "\n",
    "            # Check if the input looks like a greeting, add a greeting output if so\n",
    "            outs.append(selector(msg, GREETINGS_IN, GREETINGS_OUT))\n",
    "\n",
    "            # Check if the input looks like a request for a movie, add a movie output if so\n",
    "            outs.append(selector(msg, MOVIE_IN, MOVIE_OUT))\n",
    "\n",
    "            # Check if the input looks like a genre specified, generate a random movie based on that genre\n",
    "            if is_in_list(msg, GENRE_IN):\n",
    "                name = find_in_list(msg, GENRE_IN)\n",
    "                \n",
    "                if 'action' in msg:\n",
    "                    movie = random.choice(movielist_action)\n",
    "                    GENRE_OUT = movie                    \n",
    "                    print(GENRE_OUT)                    \n",
    "                    print ('do you want more information')                    \n",
    "                    continue\n",
    "                    \n",
    "                elif 'thriller' in msg or 'scary' in msg:                \n",
    "                    movie = random.choice(movielist_thriller)                    \n",
    "                    GENRE_OUT = movie \n",
    "                    print(GENRE_OUT)  \n",
    "                    print ('do you want more information')                   \n",
    "                    continue\n",
    "\n",
    "                elif 'romcom' in msg or 'romantic comedies' in msg or 'romantic comedy' in msg:                    \n",
    "                    movie = random.choice(movielist_romcom)                   \n",
    "                    GENRE_OUT = movie                    \n",
    "                    print(GENRE_OUT)                    \n",
    "                    print ('do you want more information')                   \n",
    "                    continue\n",
    "\n",
    "                elif 'funny' in msg or 'comedy'in msg:                    \n",
    "                    movie = random.choice(movielist_funny)                    \n",
    "                    GENRE_OUT = movie                    \n",
    "                    print(GENRE_OUT)                      \n",
    "                    print ('do you want more information')                    \n",
    "                    continue\n",
    "                    \n",
    "                elif 'indie' in msg:                      \n",
    "                    movie = random.choice(movielist_indie)                    \n",
    "                    GENRE_OUT = movie                    \n",
    "                    print(GENRE_OUT)                      \n",
    "                    print ('do you want more information')                    \n",
    "                    continue\n",
    "\n",
    "                elif 'documentary' in msg:                    \n",
    "                    movie = random.choice(movielist_documentary)                    \n",
    "                    GENRE_OUT = movie                    \n",
    "                    print(GENRE_OUT)  \n",
    "                    print ('do you want more information')                    \n",
    "                    continue\n",
    "                    \n",
    "                elif 'mystery' in msg:\n",
    "                    movie = random.choice(movielist_mystery)                   \n",
    "                    GENRE_OUT = movie\n",
    "                    print(GENRE_OUT)                    \n",
    "                    print('do you want more information')\n",
    "                    continue\n",
    "\n",
    "                elif 'superhero' in msg:                    \n",
    "                    movie = random.choice(movielist_superhero)                    \n",
    "                    GENRE_OUT = movie                    \n",
    "                    print(GENRE_OUT)                      \n",
    "                    print ('do you want more information')                    \n",
    "                    continue\n",
    "\n",
    "                elif 'disney' in msg:\n",
    "                    movie = random.choice(movielist_disney)                    \n",
    "                    GENRE_OUT = movie\n",
    "                    print(GENRE_OUT)                     \n",
    "                    print ('do you want more information')                    \n",
    "                    continue\n",
    "                \n",
    "                outs.append(list_to_string([name.capitalize(), selector(msg, GENRE_IN, GENRE_OUT)], ' '))\n",
    "                \n",
    "        #if the user wants more information on the movie that was given\n",
    "            if 'yes' in msg:            \n",
    "                out_msg = print(GENRE_OUT)\n",
    "                outcome = GENRE_OUT\n",
    "                GENRE_OUT = outcome.replace(\" \", \"\")\n",
    "                out_msg = give_more_information(GENRE_OUT)\n",
    "\n",
    "        # We also might have appended None in some cases, meaning we don't have a reply\n",
    "        # To deal with this, we are going to randomly select an output from the set of outputs that are not None\n",
    "        options = list(filter(None, outs))\n",
    "        if options:\n",
    "            out_msg = random.choice(options)\n",
    "\n",
    "        # If we don't have an output yet, but the input was a question, return msg related to it being a question\n",
    "        if not out_msg and question:\n",
    "            out_msg = QUESTION\n",
    "\n",
    "        # Catch-all to say something if msg not caught & processed so far\n",
    "        if not out_msg:\n",
    "            out_msg = random.choice(UNKNOWN)\n",
    "\n",
    "        print('Mr. Chattison:', out_msg)"
   ]
  },
  {
   "cell_type": "code",
   "execution_count": 17,
   "metadata": {},
   "outputs": [
    {
     "name": "stdout",
     "output_type": "stream",
     "text": [
      "You:\thi\n",
      "Mr. Chattison: im mr. chattison. what up\n",
      "You:\tcan i have a movie recommendation\n",
      "Mr. Chattison: what kind of movie you wanna watch\n",
      "You:\taction\n",
      "Guardians of the Galaxy\n",
      "do you want more information\n",
      "You:\tyes\n",
      "Guardians of the Galaxy\n",
      "kk here is some information\n",
      "Mr. Chattison: https://www.imdb.com/find?ref_=nv_sr_fn&q=GuardiansoftheGalaxy&s=all\n",
      "You:\tthank you!\n",
      "Mr. Chattison: confused\n",
      "You:\tbye\n",
      "Mr. Chattison: see ya\n"
     ]
    }
   ],
   "source": [
    "chattison_give_me_a_movie()"
   ]
  },
  {
   "cell_type": "code",
   "execution_count": null,
   "metadata": {},
   "outputs": [],
   "source": []
  }
 ],
 "metadata": {
  "kernelspec": {
   "display_name": "Python 3",
   "language": "python",
   "name": "python3"
  },
  "language_info": {
   "codemirror_mode": {
    "name": "ipython",
    "version": 3
   },
   "file_extension": ".py",
   "mimetype": "text/x-python",
   "name": "python",
   "nbconvert_exporter": "python",
   "pygments_lexer": "ipython3",
   "version": "3.6.7"
  }
 },
 "nbformat": 4,
 "nbformat_minor": 2
}
